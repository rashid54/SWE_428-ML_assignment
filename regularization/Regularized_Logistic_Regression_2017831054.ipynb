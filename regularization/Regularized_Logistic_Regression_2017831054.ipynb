{
  "nbformat": 4,
  "nbformat_minor": 0,
  "metadata": {
    "colab": {
      "provenance": [],
      "include_colab_link": true
    },
    "kernelspec": {
      "name": "python3",
      "display_name": "Python 3"
    },
    "language_info": {
      "name": "python"
    }
  },
  "cells": [
    {
      "cell_type": "markdown",
      "metadata": {
        "id": "view-in-github",
        "colab_type": "text"
      },
      "source": [
        "<a href=\"https://colab.research.google.com/github/rashid54/SWE_428-ML_assignment/blob/main/regularization/Regularized_Logistic_Regression_2017831054.ipynb\" target=\"_parent\"><img src=\"https://colab.research.google.com/assets/colab-badge.svg\" alt=\"Open In Colab\"/></a>"
      ]
    },
    {
      "cell_type": "code",
      "execution_count": 1,
      "metadata": {
        "colab": {
          "base_uri": "https://localhost:8080/"
        },
        "id": "LkCipJF-F-wK",
        "outputId": "39a5fb95-84b6-41eb-cf23-8f1f3018e973"
      },
      "outputs": [
        {
          "output_type": "stream",
          "name": "stdout",
          "text": [
            "Drive already mounted at /content/drive; to attempt to forcibly remount, call drive.mount(\"/content/drive\", force_remount=True).\n"
          ]
        }
      ],
      "source": [
        "import pandas as pd\n",
        "import matplotlib.pyplot as plt\n",
        "import csv\n",
        "import numpy as np\n",
        "import seaborn as sns\n",
        "from google.colab import drive\n",
        "drive.mount('/content/drive')"
      ]
    },
    {
      "cell_type": "code",
      "source": [
        "data_path = '/content/drive/MyDrive/academics/4_2/Machine_Learning/Regularization/data_regularization.txt'"
      ],
      "metadata": {
        "id": "--d7rlbMGyjX"
      },
      "execution_count": 2,
      "outputs": []
    },
    {
      "cell_type": "code",
      "source": [
        "data = pd.read_csv(data_path, header=None, names = [\"x1\",\"x2\",\"y\"])\n",
        "data.head()"
      ],
      "metadata": {
        "id": "_ET7Ev_8HF6L",
        "colab": {
          "base_uri": "https://localhost:8080/",
          "height": 206
        },
        "outputId": "40f358c8-57dc-4429-ca37-40cd57db30fa"
      },
      "execution_count": 3,
      "outputs": [
        {
          "output_type": "execute_result",
          "data": {
            "text/plain": [
              "         x1       x2  y\n",
              "0  0.051267  0.69956  1\n",
              "1 -0.092742  0.68494  1\n",
              "2 -0.213710  0.69225  1\n",
              "3 -0.375000  0.50219  1\n",
              "4 -0.513250  0.46564  1"
            ],
            "text/html": [
              "\n",
              "  <div id=\"df-26fa194c-11e1-4c36-aa05-684e12626cee\">\n",
              "    <div class=\"colab-df-container\">\n",
              "      <div>\n",
              "<style scoped>\n",
              "    .dataframe tbody tr th:only-of-type {\n",
              "        vertical-align: middle;\n",
              "    }\n",
              "\n",
              "    .dataframe tbody tr th {\n",
              "        vertical-align: top;\n",
              "    }\n",
              "\n",
              "    .dataframe thead th {\n",
              "        text-align: right;\n",
              "    }\n",
              "</style>\n",
              "<table border=\"1\" class=\"dataframe\">\n",
              "  <thead>\n",
              "    <tr style=\"text-align: right;\">\n",
              "      <th></th>\n",
              "      <th>x1</th>\n",
              "      <th>x2</th>\n",
              "      <th>y</th>\n",
              "    </tr>\n",
              "  </thead>\n",
              "  <tbody>\n",
              "    <tr>\n",
              "      <th>0</th>\n",
              "      <td>0.051267</td>\n",
              "      <td>0.69956</td>\n",
              "      <td>1</td>\n",
              "    </tr>\n",
              "    <tr>\n",
              "      <th>1</th>\n",
              "      <td>-0.092742</td>\n",
              "      <td>0.68494</td>\n",
              "      <td>1</td>\n",
              "    </tr>\n",
              "    <tr>\n",
              "      <th>2</th>\n",
              "      <td>-0.213710</td>\n",
              "      <td>0.69225</td>\n",
              "      <td>1</td>\n",
              "    </tr>\n",
              "    <tr>\n",
              "      <th>3</th>\n",
              "      <td>-0.375000</td>\n",
              "      <td>0.50219</td>\n",
              "      <td>1</td>\n",
              "    </tr>\n",
              "    <tr>\n",
              "      <th>4</th>\n",
              "      <td>-0.513250</td>\n",
              "      <td>0.46564</td>\n",
              "      <td>1</td>\n",
              "    </tr>\n",
              "  </tbody>\n",
              "</table>\n",
              "</div>\n",
              "      <button class=\"colab-df-convert\" onclick=\"convertToInteractive('df-26fa194c-11e1-4c36-aa05-684e12626cee')\"\n",
              "              title=\"Convert this dataframe to an interactive table.\"\n",
              "              style=\"display:none;\">\n",
              "        \n",
              "  <svg xmlns=\"http://www.w3.org/2000/svg\" height=\"24px\"viewBox=\"0 0 24 24\"\n",
              "       width=\"24px\">\n",
              "    <path d=\"M0 0h24v24H0V0z\" fill=\"none\"/>\n",
              "    <path d=\"M18.56 5.44l.94 2.06.94-2.06 2.06-.94-2.06-.94-.94-2.06-.94 2.06-2.06.94zm-11 1L8.5 8.5l.94-2.06 2.06-.94-2.06-.94L8.5 2.5l-.94 2.06-2.06.94zm10 10l.94 2.06.94-2.06 2.06-.94-2.06-.94-.94-2.06-.94 2.06-2.06.94z\"/><path d=\"M17.41 7.96l-1.37-1.37c-.4-.4-.92-.59-1.43-.59-.52 0-1.04.2-1.43.59L10.3 9.45l-7.72 7.72c-.78.78-.78 2.05 0 2.83L4 21.41c.39.39.9.59 1.41.59.51 0 1.02-.2 1.41-.59l7.78-7.78 2.81-2.81c.8-.78.8-2.07 0-2.86zM5.41 20L4 18.59l7.72-7.72 1.47 1.35L5.41 20z\"/>\n",
              "  </svg>\n",
              "      </button>\n",
              "      \n",
              "  <style>\n",
              "    .colab-df-container {\n",
              "      display:flex;\n",
              "      flex-wrap:wrap;\n",
              "      gap: 12px;\n",
              "    }\n",
              "\n",
              "    .colab-df-convert {\n",
              "      background-color: #E8F0FE;\n",
              "      border: none;\n",
              "      border-radius: 50%;\n",
              "      cursor: pointer;\n",
              "      display: none;\n",
              "      fill: #1967D2;\n",
              "      height: 32px;\n",
              "      padding: 0 0 0 0;\n",
              "      width: 32px;\n",
              "    }\n",
              "\n",
              "    .colab-df-convert:hover {\n",
              "      background-color: #E2EBFA;\n",
              "      box-shadow: 0px 1px 2px rgba(60, 64, 67, 0.3), 0px 1px 3px 1px rgba(60, 64, 67, 0.15);\n",
              "      fill: #174EA6;\n",
              "    }\n",
              "\n",
              "    [theme=dark] .colab-df-convert {\n",
              "      background-color: #3B4455;\n",
              "      fill: #D2E3FC;\n",
              "    }\n",
              "\n",
              "    [theme=dark] .colab-df-convert:hover {\n",
              "      background-color: #434B5C;\n",
              "      box-shadow: 0px 1px 3px 1px rgba(0, 0, 0, 0.15);\n",
              "      filter: drop-shadow(0px 1px 2px rgba(0, 0, 0, 0.3));\n",
              "      fill: #FFFFFF;\n",
              "    }\n",
              "  </style>\n",
              "\n",
              "      <script>\n",
              "        const buttonEl =\n",
              "          document.querySelector('#df-26fa194c-11e1-4c36-aa05-684e12626cee button.colab-df-convert');\n",
              "        buttonEl.style.display =\n",
              "          google.colab.kernel.accessAllowed ? 'block' : 'none';\n",
              "\n",
              "        async function convertToInteractive(key) {\n",
              "          const element = document.querySelector('#df-26fa194c-11e1-4c36-aa05-684e12626cee');\n",
              "          const dataTable =\n",
              "            await google.colab.kernel.invokeFunction('convertToInteractive',\n",
              "                                                     [key], {});\n",
              "          if (!dataTable) return;\n",
              "\n",
              "          const docLinkHtml = 'Like what you see? Visit the ' +\n",
              "            '<a target=\"_blank\" href=https://colab.research.google.com/notebooks/data_table.ipynb>data table notebook</a>'\n",
              "            + ' to learn more about interactive tables.';\n",
              "          element.innerHTML = '';\n",
              "          dataTable['output_type'] = 'display_data';\n",
              "          await google.colab.output.renderOutput(dataTable, element);\n",
              "          const docLink = document.createElement('div');\n",
              "          docLink.innerHTML = docLinkHtml;\n",
              "          element.appendChild(docLink);\n",
              "        }\n",
              "      </script>\n",
              "    </div>\n",
              "  </div>\n",
              "  "
            ]
          },
          "metadata": {},
          "execution_count": 3
        }
      ]
    },
    {
      "cell_type": "code",
      "source": [
        "def plotData(data, label_x, label_y, label_pos, label_neg, axes=None):\n",
        "    # Get indexes for class 0 and class 1\n",
        "    neg = data['y'] == 0\n",
        "    pos = data['y'] == 1\n",
        "    \n",
        "    # If no specific axes object has been passed, get the current axes.\n",
        "    if axes == None:\n",
        "        axes = plt.gca()\n",
        "    axes.scatter(data[pos]['x1'], data[pos]['x2'], marker='+', c='orange', s=60, linewidth=2, label=label_pos)\n",
        "    axes.scatter(data[neg]['x1'], data[neg]['x2'], c='blue', s=60, label=label_neg)\n",
        "    axes.set_xlabel(label_x)\n",
        "    axes.set_ylabel(label_y)\n",
        "    axes.legend(frameon= True, fancybox = True);"
      ],
      "metadata": {
        "id": "WQsM0IONHNWP"
      },
      "execution_count": 4,
      "outputs": []
    },
    {
      "cell_type": "code",
      "source": [
        "plotData(data, 'Microchip Test 1', 'Microchip Test 2', 'y = 1', 'y = 0')"
      ],
      "metadata": {
        "id": "mPAeH_KOHRru",
        "colab": {
          "base_uri": "https://localhost:8080/",
          "height": 279
        },
        "outputId": "6ebff6e8-82f1-4d53-cd84-d52a1db0f9da"
      },
      "execution_count": 5,
      "outputs": [
        {
          "output_type": "display_data",
          "data": {
            "text/plain": [
              "<Figure size 432x288 with 1 Axes>"
            ],
            "image/png": "[encoded data removed]"
          },
          "metadata": {
            "needs_background": "light"
          }
        }
      ]
    },
    {
      "cell_type": "code",
      "source": [
        "n = data.shape[1]-1\n",
        "x = data[data.columns[0:n]]\n",
        "\n",
        "y = data[data.columns[n:n+1]]\n",
        "# convert to np.array\n",
        "X = x.values\n",
        "y = y.values"
      ],
      "metadata": {
        "id": "v232jZmWHULu"
      },
      "execution_count": 6,
      "outputs": []
    },
    {
      "cell_type": "code",
      "source": [
        "def mapFeature( x1col, x2col):\n",
        "    degrees = 10\n",
        "    out = np.ones( (x1col.shape[0], 1) )\n",
        "\n",
        "    for i in range(1, degrees+1):\n",
        "        for j in range(0, i+1):\n",
        "            term1 = x1col ** (i-j)\n",
        "            term2 = x2col ** (j)\n",
        "            term  = (term1 * term2).reshape( term1.shape[0], 1 ) \n",
        "            out   = np.hstack(( out, term ))\n",
        "    return out"
      ],
      "metadata": {
        "id": "XgO2azaRdPCc"
      },
      "execution_count": 7,
      "outputs": []
    },
    {
      "cell_type": "code",
      "source": [
        "XX = mapFeature(X[:,0],X[:,1])\n",
        "print(X.shape, XX.shape)"
      ],
      "metadata": {
        "id": "4zmnrt28HZF3",
        "colab": {
          "base_uri": "https://localhost:8080/"
        },
        "outputId": "f213b14d-1b63-45b5-f186-7f5bc3f70cec"
      },
      "execution_count": 8,
      "outputs": [
        {
          "output_type": "stream",
          "name": "stdout",
          "text": [
            "(118, 2) (118, 66)\n"
          ]
        }
      ]
    },
    {
      "cell_type": "code",
      "source": [
        "from scipy.special import expit #Vectorized sigmoid function\n",
        "\n",
        "#Hypothesis function and cost function for logistic regression\n",
        "def h(mytheta,myX): #Logistic hypothesis function\n",
        "    return expit(np.dot(myX,mytheta))"
      ],
      "metadata": {
        "id": "sxKJKwaKLP5G"
      },
      "execution_count": 9,
      "outputs": []
    },
    {
      "cell_type": "code",
      "source": [
        "\n",
        "#Cost function, default lambda (regularization) 0\n",
        "def computeCost(mytheta,myX,myy,mylambda = 0.): \n",
        "\n",
        "    m = myy.size # number of training examples\n",
        "\n",
        "    term1 = np.dot(-np.array(myy).T,np.log(h(mytheta,myX)))\n",
        "    term2 = np.dot((1-np.array(myy)).T,np.log(1-h(mytheta,myX)))\n",
        "    regterm = (mylambda/2) * np.sum(np.dot(mytheta[1:].T,mytheta[1:])) #Skip theta0\n",
        "    return float( (1./m) * ( np.sum(term1 - term2) + regterm ) )"
      ],
      "metadata": {
        "id": "pSqGpkkbHetr"
      },
      "execution_count": 10,
      "outputs": []
    },
    {
      "cell_type": "code",
      "source": [
        "def gradientDescent(X, Y, thetas):\n",
        "  rowNum, colNum = X.shape\n",
        "  costs = np.zeros((colNum,1))\n",
        "  lowLimit = -500\n",
        "  highLimit = 500\n",
        "\n",
        "  for i in range(rowNum):\n",
        "    hypothesisVal = np.dot(X[i], thetas)\n",
        "    hypothesisVal = np.clip(hypothesisVal, lowLimit, highLimit)\n",
        "    \n",
        "    sigmoidVal = 1.0/(1.0+np.exp(-hypothesisVal))\n",
        "    error = sigmoidVal - Y[i]\n",
        "    # print(X.shape, thetas.shape)\n",
        "    # break\n",
        "\n",
        "    for j in range(colNum):\n",
        "      costs[j][0] = costs[j][0] + error * X[i][j]\n",
        "\n",
        "  return costs"
      ],
      "metadata": {
        "id": "vPuPVkjbq4Wi"
      },
      "execution_count": 11,
      "outputs": []
    },
    {
      "cell_type": "code",
      "source": [
        "def optimizeRegularizedTheta(mytheta,myX,myY,alpha,epoch,mylambda=0.):\n",
        "  m = myY.shape[0]\n",
        "  cost_per_epoch = []\n",
        "  thetas = mytheta\n",
        "\n",
        "  for i in range(epoch):\n",
        "    cost = gradientDescent(myX, myY, thetas)\n",
        "    thetas = thetas * (1 - (mylambda / m)) - (alpha/m) * cost\n",
        "    # print(cost.shape)\n",
        "    cost_per_epoch.append( computeCost(thetas, myX, myY, mylambda))\n",
        "\n",
        "  thetas = thetas.reshape((mytheta.shape[0],))\n",
        "  return thetas, min(cost_per_epoch)"
      ],
      "metadata": {
        "id": "izFumO1Z1H8o"
      },
      "execution_count": 12,
      "outputs": []
    },
    {
      "cell_type": "code",
      "source": [
        "# from scipy import optimize\n",
        "initial_theta = np.zeros( (XX.shape[1], 1))\n",
        "# print(initial_theta)\n",
        "alpha = 0.1\n",
        "epoch = 100\n",
        "\n",
        "# def optimizeRegularizedTheta(mytheta,myX,myy,mylambda=0.):\n",
        "#     result = optimize.minimize(computeCost, mytheta, args=(myX, myy, mylambda),  method='BFGS', options={\"maxiter\":500, \"disp\":False} )\n",
        "#     return np.array([result.x]), result.fun\n",
        "    \n",
        "theta, mincost = optimizeRegularizedTheta(initial_theta,XX,y,alpha,epoch)\n",
        "print(theta)\n",
        "print(mincost)"
      ],
      "metadata": {
        "id": "MiwC-euqIY9Q",
        "colab": {
          "base_uri": "https://localhost:8080/"
        },
        "outputId": "7618eb98-bd1f-41ee-ad79-4981e03d7c85"
      },
      "execution_count": 13,
      "outputs": [
        {
          "output_type": "stream",
          "name": "stdout",
          "text": [
            "[ 0.21980259 -0.03949318  0.17680958 -0.36647819 -0.10509445 -0.18188768\n",
            " -0.07526844 -0.04859032 -0.06204244 -0.0630484  -0.29070407 -0.01424949\n",
            " -0.09812425 -0.02868105 -0.21291026 -0.10894424 -0.03235489 -0.0221189\n",
            " -0.04117423 -0.03887996 -0.13599942 -0.22239972 -0.00401091 -0.05049457\n",
            " -0.00193417 -0.05373719 -0.01313744 -0.20704175 -0.11727771 -0.01970546\n",
            " -0.01576503 -0.01737718 -0.0100774  -0.03114817 -0.02231062 -0.16341925\n",
            " -0.17743324 -0.00273491 -0.0285809  -0.00091388 -0.02164516 -0.00046305\n",
            " -0.03550264 -0.00697696 -0.20089995 -0.11597428 -0.01352922 -0.01166042\n",
            " -0.0076277  -0.00606408 -0.01104921 -0.00418937 -0.02457545 -0.01282876\n",
            " -0.17800224 -0.14871731 -0.00350006 -0.0176873  -0.00056508 -0.01011747\n",
            " -0.00079118 -0.01210025  0.00038697 -0.02633894 -0.00410926 -0.20035957]\n",
            "0.6089396397803091\n"
          ]
        }
      ]
    },
    {
      "cell_type": "code",
      "source": [
        "def plotBoundary(mytheta, myX, myy, mylambda=0.):\n",
        "    \"\"\"\n",
        "    Function to plot the decision boundary for arbitrary theta, X, y, lambda value\n",
        "    Inside of this function is feature mapping, and the minimization routine.\n",
        "    It works by making a grid of x1 (\"xvals\") and x2 (\"yvals\") points,\n",
        "    And for each, computing whether the hypothesis classifies that point as\n",
        "    True or False. Then, a contour is drawn with a built-in pyplot function.\n",
        "    \"\"\"\n",
        "    theta, mincost = optimizeRegularizedTheta(mytheta,myX,myy,alpha,epoch,mylambda)\n",
        "    print(theta, '\\n\\nCost : ', mincost, '\\n \\n ')\n",
        "    xvals = np.linspace(-1,1.5,50)\n",
        "    yvals = np.linspace(-1,1.5,50)\n",
        "    zvals = np.zeros((len(xvals),len(yvals)))\n",
        "    for i in range(len(xvals)):\n",
        "        for j in range(len(yvals)):\n",
        "            myfeaturesij = mapFeature(np.array([xvals[i]]),np.array([yvals[j]]))\n",
        "            zvals[i][j] = np.dot(theta,myfeaturesij.T)\n",
        "            # print(type(zvals), zvals.shape)\n",
        "    zvals = zvals.transpose()\n",
        "\n",
        "    u, v = np.meshgrid( xvals, yvals )\n",
        "    mycontour = plt.contour( xvals, yvals, zvals, [0])\n",
        "    #Kind of a hacky way to display a text on top of the decision boundary\n",
        "    myfmt = { 0:'Lambda = %d'%mylambda}\n",
        "    plt.clabel(mycontour, inline=1, fontsize=15, fmt=myfmt)\n",
        "    plt.title(\"Decision Boundary\")"
      ],
      "metadata": {
        "id": "n3VQpykTQ1ip"
      },
      "execution_count": 14,
      "outputs": []
    },
    {
      "cell_type": "code",
      "source": [
        "plt.figure(figsize=(12,10))\n",
        "plt.subplot(221)\n",
        "plotData(data, 'Microchip Test 1', 'Microchip Test 2', 'y = 1', 'y = 0')\n",
        "plotBoundary(initial_theta, XX, y, 0.)\n",
        "\n",
        "plt.subplot(222)\n",
        "plotData(data, 'Microchip Test 1', 'Microchip Test 2', 'y = 1', 'y = 0')\n",
        "plotBoundary(initial_theta,XX,y,1.)\n",
        "\n",
        "plt.subplot(223)\n",
        "plotData(data, 'Microchip Test 1', 'Microchip Test 2', 'y = 1', 'y = 0')\n",
        "plotBoundary(initial_theta,XX,y,10.)\n",
        "\n",
        "plt.subplot(224)\n",
        "plotData(data, 'Microchip Test 1', 'Microchip Test 2', 'y = 1', 'y = 0')\n",
        "plotBoundary(initial_theta,XX,y,50.)"
      ],
      "metadata": {
        "id": "JJvTscBAUJjT",
        "colab": {
          "base_uri": "https://localhost:8080/",
          "height": 1000
        },
        "outputId": "c228c0a1-72eb-4e0c-ea48-86d0e92789e5"
      },
      "execution_count": 15,
      "outputs": [
        {
          "output_type": "stream",
          "name": "stdout",
          "text": [
            "[ 0.21980259 -0.03949318  0.17680958 -0.36647819 -0.10509445 -0.18188768\n",
            " -0.07526844 -0.04859032 -0.06204244 -0.0630484  -0.29070407 -0.01424949\n",
            " -0.09812425 -0.02868105 -0.21291026 -0.10894424 -0.03235489 -0.0221189\n",
            " -0.04117423 -0.03887996 -0.13599942 -0.22239972 -0.00401091 -0.05049457\n",
            " -0.00193417 -0.05373719 -0.01313744 -0.20704175 -0.11727771 -0.01970546\n",
            " -0.01576503 -0.01737718 -0.0100774  -0.03114817 -0.02231062 -0.16341925\n",
            " -0.17743324 -0.00273491 -0.0285809  -0.00091388 -0.02164516 -0.00046305\n",
            " -0.03550264 -0.00697696 -0.20089995 -0.11597428 -0.01352922 -0.01166042\n",
            " -0.0076277  -0.00606408 -0.01104921 -0.00418937 -0.02457545 -0.01282876\n",
            " -0.17800224 -0.14871731 -0.00350006 -0.0176873  -0.00056508 -0.01011747\n",
            " -0.00079118 -0.01210025  0.00038697 -0.02633894 -0.00410926 -0.20035957] \n",
            "\n",
            "Cost :  0.6089396397803091 \n",
            " \n",
            " \n",
            "[ 0.13805354 -0.03625328  0.11226772 -0.25510152 -0.07168231 -0.131392\n",
            " -0.05746515 -0.03396229 -0.04318991 -0.05019851 -0.20232175 -0.01010205\n",
            " -0.06799336 -0.01945465 -0.15199915 -0.078926   -0.02238836 -0.01572934\n",
            " -0.02870384 -0.0265459  -0.09964688 -0.15524294 -0.00308267 -0.03489349\n",
            " -0.00143777 -0.03734166 -0.0087798  -0.14793683 -0.08385442 -0.01368843\n",
            " -0.01115444 -0.01200704 -0.00704108 -0.02181637 -0.01505726 -0.11835781\n",
            " -0.12432437 -0.00217656 -0.01975972 -0.00071011 -0.01496866 -0.00035837\n",
            " -0.02479125 -0.0045593  -0.14392963 -0.08258793 -0.00947244 -0.00821507\n",
            " -0.00526429 -0.00424792 -0.0076672  -0.00290325 -0.01729936 -0.00855817\n",
            " -0.12853922 -0.10463349 -0.00268212 -0.01224422 -0.00044139 -0.00699163\n",
            " -0.00057913 -0.00839225  0.00025658 -0.01849502 -0.00261879 -0.14393252] \n",
            "\n",
            "Cost :  0.6301554114787258 \n",
            " \n",
            " \n",
            "[ 8.07852056e-03 -1.63196857e-02  9.56417641e-03 -5.29725267e-02\n",
            " -1.32595030e-02 -3.41023965e-02 -1.72650187e-02 -7.33039078e-03\n",
            " -8.86824372e-03 -1.89067025e-02 -4.19583411e-02 -2.31981699e-03\n",
            " -1.36760800e-02 -3.59087706e-03 -3.72749514e-02 -1.98510090e-02\n",
            " -4.56369614e-03 -3.51813766e-03 -6.01874970e-03 -5.04092459e-03\n",
            " -2.79073313e-02 -3.28966226e-02 -1.00585948e-03 -6.86825879e-03\n",
            " -3.97929248e-04 -7.65370654e-03 -1.60521958e-03 -3.68026232e-02\n",
            " -2.01507900e-02 -2.87628415e-03 -2.43808901e-03 -2.37875101e-03\n",
            " -1.46876026e-03 -4.69607320e-03 -2.79197040e-03 -3.17937162e-02\n",
            " -2.71041216e-02 -8.16646565e-04 -3.89369185e-03 -2.19183204e-04\n",
            " -2.95988432e-03 -1.29214390e-04 -5.24641141e-03 -8.50584540e-04\n",
            " -3.67718730e-02 -1.96982940e-02 -2.10132504e-03 -1.76695350e-03\n",
            " -1.03473948e-03 -8.86545773e-04 -1.55079520e-03 -5.99004656e-04\n",
            " -3.84378557e-03 -1.60799458e-03 -3.44977228e-02 -2.35424146e-02\n",
            " -9.05758675e-04 -2.43075570e-03 -1.38815178e-04 -1.37278426e-03\n",
            " -1.46874298e-04 -1.68871525e-03  1.32878868e-05 -4.06293628e-03\n",
            " -5.48525795e-04 -3.78211776e-02] \n",
            "\n",
            "Cost :  0.6756291061467627 \n",
            " \n",
            " \n",
            "[-9.65292242e-04 -4.15931566e-03  5.13165971e-04 -1.15456362e-02\n",
            " -2.70357635e-03 -8.32355474e-03 -4.12260824e-03 -1.65630643e-03\n",
            " -1.89582410e-03 -5.06958434e-03 -9.06350853e-03 -5.13766959e-04\n",
            " -2.95442055e-03 -7.29793086e-04 -8.79134598e-03 -4.53629456e-03\n",
            " -9.92849297e-04 -7.76023478e-04 -1.33076453e-03 -1.04578780e-03\n",
            " -6.86082163e-03 -7.14255208e-03 -2.45359030e-04 -1.45990257e-03\n",
            " -9.26118148e-05 -1.66565579e-03 -3.25461215e-04 -8.68481391e-03\n",
            " -4.54602907e-03 -6.28893984e-04 -5.33804648e-04 -5.10668904e-04\n",
            " -3.16315537e-04 -1.04513680e-03 -5.74258168e-04 -7.69057677e-03\n",
            " -5.93715988e-03 -2.05117063e-04 -8.25219868e-04 -5.29040764e-05\n",
            " -6.31112881e-04 -3.17472542e-05 -1.15640464e-03 -1.75524580e-04\n",
            " -8.74324070e-03 -4.43564918e-03 -4.66339346e-04 -3.84749270e-04\n",
            " -2.20851952e-04 -1.91063408e-04 -3.34997011e-04 -1.28476523e-04\n",
            " -8.64738713e-04 -3.34442150e-04 -8.33386831e-03 -5.20992264e-03\n",
            " -2.23059146e-04 -5.15666815e-04 -3.38257274e-05 -2.90994903e-04\n",
            " -3.36945835e-05 -3.62910573e-04 -1.82241360e-07 -9.08907529e-04\n",
            " -1.20940771e-04 -9.07336447e-03] \n",
            "\n",
            "Cost :  0.6888223513873032 \n",
            " \n",
            " \n"
          ]
        },
        {
          "output_type": "stream",
          "name": "stderr",
          "text": [
            "/usr/local/lib/python3.7/dist-packages/ipykernel_launcher.py:22: UserWarning: No contour levels were found within the data range.\n"
          ]
        },
        {
          "output_type": "display_data",
          "data": {
            "text/plain": [
              "<Figure size 864x720 with 4 Axes>"
            ],
            "image/png": "[encoded data removed]"
          },
          "metadata": {
            "needs_background": "light"
          }
        }
      ]
    },
    {
      "cell_type": "code",
      "source": [],
      "metadata": {
        "id": "9ri6lTSDCqP-"
      },
      "execution_count": 15,
      "outputs": []
    }
  ]
}